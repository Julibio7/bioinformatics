{
  "nbformat": 4,
  "nbformat_minor": 0,
  "metadata": {
    "colab": {
      "provenance": [],
      "include_colab_link": true
    },
    "kernelspec": {
      "name": "python3",
      "display_name": "Python 3"
    }
  },
  "cells": [
    {
      "cell_type": "markdown",
      "metadata": {
        "id": "view-in-github",
        "colab_type": "text"
      },
      "source": [
        "<a href=\"https://colab.research.google.com/github/Julibio7/bioinformatics/blob/main/pysra_download.ipynb\" target=\"_parent\"><img src=\"https://colab.research.google.com/assets/colab-badge.svg\" alt=\"Open In Colab\"/></a>"
      ]
    },
    {
      "cell_type": "markdown",
      "source": [
        "# **pysradb**: um pacote Python para consultar metadados de  NGS e dados do NCBI\n",
        "\n",
        "\n",
        "`pysradb` fornece um método simples para acessar metadados e baixar dados de sequenciamento do Sequence Read Archive (SRA) do NCBI e do European Nucleotide Archive (ENA) do Instituto Europeu de Bioinformática.\n",
        "\n"
      ],
      "metadata": {
        "id": "YsaAw_YWEmrs"
      }
    },
    {
      "cell_type": "code",
      "source": [
        "from google.colab import drive\n",
        "drive.mount('/content/drive')\n"
      ],
      "metadata": {
        "colab": {
          "base_uri": "https://localhost:8080/"
        },
        "id": "2zQD5GrERErY",
        "outputId": "f1540b22-2b69-4b5f-d53d-9cf13cb22a25"
      },
      "execution_count": null,
      "outputs": [
        {
          "output_type": "stream",
          "name": "stdout",
          "text": [
            "Mounted at /content/drive\n"
          ]
        }
      ]
    },
    {
      "cell_type": "code",
      "source": [
        "!ls /content/drive/My\\ Drive\n"
      ],
      "metadata": {
        "id": "Hdph3rUySI2L"
      },
      "execution_count": null,
      "outputs": []
    },
    {
      "cell_type": "code",
      "source": [
        "#importar as bibliotecas\n",
        "import pandas as pd\n",
        "from io import StringIO"
      ],
      "metadata": {
        "id": "7eqUgi7GN9v0"
      },
      "execution_count": null,
      "outputs": []
    },
    {
      "cell_type": "code",
      "metadata": {
        "id": "EU_ZNQwnHJff",
        "outputId": "d858986c-7aa3-4b8c-ddfd-2ac5370dcc8d",
        "colab": {
          "base_uri": "https://localhost:8080/"
        }
      },
      "source": [
        "pip install -U pysradb"
      ],
      "execution_count": null,
      "outputs": [
        {
          "output_type": "stream",
          "name": "stdout",
          "text": [
            "Collecting pysradb\n",
            "  Downloading pysradb-2.2.1-py3-none-any.whl.metadata (20 kB)\n",
            "Requirement already satisfied: lxml>=4.6.3 in /usr/local/lib/python3.10/dist-packages (from pysradb) (4.9.4)\n",
            "Requirement already satisfied: pandas>=1.3.2 in /usr/local/lib/python3.10/dist-packages (from pysradb) (2.1.4)\n",
            "Collecting requests-ftp>=0.3.1 (from pysradb)\n",
            "  Downloading requests-ftp-0.3.1.tar.gz (7.8 kB)\n",
            "  Preparing metadata (setup.py) ... \u001b[?25l\u001b[?25hdone\n",
            "Requirement already satisfied: requests>=2.26.0 in /usr/local/lib/python3.10/dist-packages (from pysradb) (2.32.3)\n",
            "Requirement already satisfied: tqdm>=4.62.1 in /usr/local/lib/python3.10/dist-packages (from pysradb) (4.66.5)\n",
            "Collecting xmltodict>=0.12.0 (from pysradb)\n",
            "  Downloading xmltodict-0.13.0-py2.py3-none-any.whl.metadata (7.7 kB)\n",
            "Requirement already satisfied: numpy<2,>=1.22.4 in /usr/local/lib/python3.10/dist-packages (from pandas>=1.3.2->pysradb) (1.26.4)\n",
            "Requirement already satisfied: python-dateutil>=2.8.2 in /usr/local/lib/python3.10/dist-packages (from pandas>=1.3.2->pysradb) (2.8.2)\n",
            "Requirement already satisfied: pytz>=2020.1 in /usr/local/lib/python3.10/dist-packages (from pandas>=1.3.2->pysradb) (2024.1)\n",
            "Requirement already satisfied: tzdata>=2022.1 in /usr/local/lib/python3.10/dist-packages (from pandas>=1.3.2->pysradb) (2024.1)\n",
            "Requirement already satisfied: charset-normalizer<4,>=2 in /usr/local/lib/python3.10/dist-packages (from requests>=2.26.0->pysradb) (3.3.2)\n",
            "Requirement already satisfied: idna<4,>=2.5 in /usr/local/lib/python3.10/dist-packages (from requests>=2.26.0->pysradb) (3.8)\n",
            "Requirement already satisfied: urllib3<3,>=1.21.1 in /usr/local/lib/python3.10/dist-packages (from requests>=2.26.0->pysradb) (2.0.7)\n",
            "Requirement already satisfied: certifi>=2017.4.17 in /usr/local/lib/python3.10/dist-packages (from requests>=2.26.0->pysradb) (2024.7.4)\n",
            "Requirement already satisfied: six>=1.5 in /usr/local/lib/python3.10/dist-packages (from python-dateutil>=2.8.2->pandas>=1.3.2->pysradb) (1.16.0)\n",
            "Downloading pysradb-2.2.1-py3-none-any.whl (170 kB)\n",
            "\u001b[2K   \u001b[90m━━━━━━━━━━━━━━━━━━━━━━━━━━━━━━━━━━━━━━━━\u001b[0m \u001b[32m171.0/171.0 kB\u001b[0m \u001b[31m6.8 MB/s\u001b[0m eta \u001b[36m0:00:00\u001b[0m\n",
            "\u001b[?25hDownloading xmltodict-0.13.0-py2.py3-none-any.whl (10.0 kB)\n",
            "Building wheels for collected packages: requests-ftp\n",
            "  Building wheel for requests-ftp (setup.py) ... \u001b[?25l\u001b[?25hdone\n",
            "  Created wheel for requests-ftp: filename=requests_ftp-0.3.1-py3-none-any.whl size=8165 sha256=9d7bfb5cb63dab140fc41cafb54dd1e705199c6f30179d7abdf8093cf385b05d\n",
            "  Stored in directory: /root/.cache/pip/wheels/3a/79/dc/f819d2c2e089c0d624dd14a08eccc74e3a7491469d328b72f1\n",
            "Successfully built requests-ftp\n",
            "Installing collected packages: xmltodict, requests-ftp, pysradb\n",
            "Successfully installed pysradb-2.2.1 requests-ftp-0.3.1 xmltodict-0.13.0\n"
          ]
        }
      ]
    },
    {
      "cell_type": "code",
      "metadata": {
        "id": "FK_PzlAUHU0b",
        "outputId": "8ecfbdd0-b425-4b6c-a122-a779edf3e957",
        "colab": {
          "base_uri": "https://localhost:8080/"
        }
      },
      "source": [
        "!pysradb --version"
      ],
      "execution_count": null,
      "outputs": [
        {
          "output_type": "stream",
          "name": "stdout",
          "text": [
            "pysradb 2.2.1\n"
          ]
        }
      ]
    },
    {
      "cell_type": "markdown",
      "metadata": {
        "id": "wFEs7nMEHiZA"
      },
      "source": [
        "# Obtenha metadados para SRX (SRRs/SRS etc)"
      ]
    },
    {
      "cell_type": "code",
      "metadata": {
        "id": "4Krzqj3IHX6J"
      },
      "source": [
        "!pysradb srx-to-srr PRJNA522264"
      ],
      "execution_count": null,
      "outputs": []
    },
    {
      "cell_type": "markdown",
      "metadata": {
        "id": "yorftAz6HtFp"
      },
      "source": [
        "#Obtenha metadados detalhados # Use para salvar os metadados ✅\n"
      ]
    },
    {
      "cell_type": "code",
      "source": [
        "output = !pysradb srx-to-srr PRJNA522264 --detailed\n",
        "\n",
        "# Converte a saída em uma string única, removendo o cabeçalho e qualquer linha em branco\n",
        "output_str = \"\\n\".join(output)\n",
        "\n",
        "# Converte a string para um DataFrame\n",
        "df = pd.read_csv(StringIO(output_str), sep=\"\\t\")\n",
        "\n",
        "# Salva o DataFrame em um arquivo Excel\n",
        "df.to_excel(\"pysradb_output.xlsx\", index=False)\n",
        "\n",
        "\n",
        "from google.colab import files\n",
        "\n",
        "# Baixa o arquivo Excel\n",
        "files.download(\"pysradb_output.xlsx\")\n"
      ],
      "metadata": {
        "colab": {
          "base_uri": "https://localhost:8080/",
          "height": 17
        },
        "id": "IWUKbzYgONOr",
        "outputId": "304c8287-3093-465c-827b-2e3173bacf62"
      },
      "execution_count": null,
      "outputs": [
        {
          "output_type": "display_data",
          "data": {
            "text/plain": [
              "<IPython.core.display.Javascript object>"
            ],
            "application/javascript": [
              "\n",
              "    async function download(id, filename, size) {\n",
              "      if (!google.colab.kernel.accessAllowed) {\n",
              "        return;\n",
              "      }\n",
              "      const div = document.createElement('div');\n",
              "      const label = document.createElement('label');\n",
              "      label.textContent = `Downloading \"${filename}\": `;\n",
              "      div.appendChild(label);\n",
              "      const progress = document.createElement('progress');\n",
              "      progress.max = size;\n",
              "      div.appendChild(progress);\n",
              "      document.body.appendChild(div);\n",
              "\n",
              "      const buffers = [];\n",
              "      let downloaded = 0;\n",
              "\n",
              "      const channel = await google.colab.kernel.comms.open(id);\n",
              "      // Send a message to notify the kernel that we're ready.\n",
              "      channel.send({})\n",
              "\n",
              "      for await (const message of channel.messages) {\n",
              "        // Send a message to notify the kernel that we're ready.\n",
              "        channel.send({})\n",
              "        if (message.buffers) {\n",
              "          for (const buffer of message.buffers) {\n",
              "            buffers.push(buffer);\n",
              "            downloaded += buffer.byteLength;\n",
              "            progress.value = downloaded;\n",
              "          }\n",
              "        }\n",
              "      }\n",
              "      const blob = new Blob(buffers, {type: 'application/binary'});\n",
              "      const a = document.createElement('a');\n",
              "      a.href = window.URL.createObjectURL(blob);\n",
              "      a.download = filename;\n",
              "      div.appendChild(a);\n",
              "      a.click();\n",
              "      div.remove();\n",
              "    }\n",
              "  "
            ]
          },
          "metadata": {}
        },
        {
          "output_type": "display_data",
          "data": {
            "text/plain": [
              "<IPython.core.display.Javascript object>"
            ],
            "application/javascript": [
              "download(\"download_21b4ff00-be1c-41d8-8c9b-43b015096138\", \"pysradb_output.xlsx\", 63309)"
            ]
          },
          "metadata": {}
        }
      ]
    },
    {
      "cell_type": "code",
      "metadata": {
        "id": "30cYmMXFHpRA"
      },
      "source": [
        "#esse é o mesmo comando que o anterior, porém esse codigo está estruturado somente para visualização\n",
        "!pysradb srx-to-srr PRJNA522264 --detailed"
      ],
      "execution_count": null,
      "outputs": []
    },
    {
      "cell_type": "markdown",
      "metadata": {
        "id": "tTK_0p6JHyCI"
      },
      "source": [
        "# Download dos SRA 🤚"
      ]
    },
    {
      "cell_type": "code",
      "metadata": {
        "id": "YQLxy1yzH6dQ"
      },
      "source": [
        "!pysradb srx-to-srr PRJNA522264 --detailed | pysradb download"
      ],
      "execution_count": null,
      "outputs": []
    },
    {
      "cell_type": "markdown",
      "source": [
        "### Criar um Arquivo ZIP:\n",
        "* Use a biblioteca `zipfile` do Python para criar um arquivo ZIP que contém todos os arquivos da pasta \"pysradb_downloads\".\n",
        "* Use `files.download()` para baixar o arquivo ZIP para o seu computador.\n",
        "*  Após o download, extraia o arquivo ZIP no seu computador."
      ],
      "metadata": {
        "id": "4bR4jvY0cCPe"
      }
    },
    {
      "cell_type": "code",
      "source": [
        "from google.colab import files\n",
        "import zipfile\n",
        "import os  # Importar a biblioteca os\n",
        "\n",
        "# Definir o nome da pasta e do arquivo ZIP\n",
        "pasta_nome = 'pysradb_downloads'\n",
        "arquivo_zip = 'pysradb_downloads.zip'\n",
        "\n",
        "# Criar o arquivo ZIP\n",
        "with zipfile.ZipFile(arquivo_zip, 'w') as zip_ref:\n",
        "  for root, _, files in os.walk(pasta_nome):\n",
        "    for file in files:\n",
        "      file_path = os.path.join(root, file)\n",
        "      zip_ref.write(file_path, os.path.relpath(file_path, pasta_nome))\n",
        "\n"
      ],
      "metadata": {
        "id": "yC0yYMgYb_dM"
      },
      "execution_count": null,
      "outputs": []
    },
    {
      "cell_type": "code",
      "source": [
        "from google.colab import files\n",
        "\n",
        "# Substitua 'nome_do_arquivo.ext' pelo nome do arquivo que você deseja baixar\n",
        "files.download('pysradb_downloads.zip')\n",
        "\n"
      ],
      "metadata": {
        "colab": {
          "base_uri": "https://localhost:8080/",
          "height": 34
        },
        "id": "OS8E27vbcqzF",
        "outputId": "b89d3003-fa77-4134-d3df-97f5b4fb88a8"
      },
      "execution_count": null,
      "outputs": [
        {
          "output_type": "display_data",
          "data": {
            "text/plain": [
              "<IPython.core.display.Javascript object>"
            ],
            "application/javascript": [
              "\n",
              "    async function download(id, filename, size) {\n",
              "      if (!google.colab.kernel.accessAllowed) {\n",
              "        return;\n",
              "      }\n",
              "      const div = document.createElement('div');\n",
              "      const label = document.createElement('label');\n",
              "      label.textContent = `Downloading \"${filename}\": `;\n",
              "      div.appendChild(label);\n",
              "      const progress = document.createElement('progress');\n",
              "      progress.max = size;\n",
              "      div.appendChild(progress);\n",
              "      document.body.appendChild(div);\n",
              "\n",
              "      const buffers = [];\n",
              "      let downloaded = 0;\n",
              "\n",
              "      const channel = await google.colab.kernel.comms.open(id);\n",
              "      // Send a message to notify the kernel that we're ready.\n",
              "      channel.send({})\n",
              "\n",
              "      for await (const message of channel.messages) {\n",
              "        // Send a message to notify the kernel that we're ready.\n",
              "        channel.send({})\n",
              "        if (message.buffers) {\n",
              "          for (const buffer of message.buffers) {\n",
              "            buffers.push(buffer);\n",
              "            downloaded += buffer.byteLength;\n",
              "            progress.value = downloaded;\n",
              "          }\n",
              "        }\n",
              "      }\n",
              "      const blob = new Blob(buffers, {type: 'application/binary'});\n",
              "      const a = document.createElement('a');\n",
              "      a.href = window.URL.createObjectURL(blob);\n",
              "      a.download = filename;\n",
              "      div.appendChild(a);\n",
              "      a.click();\n",
              "      div.remove();\n",
              "    }\n",
              "  "
            ]
          },
          "metadata": {}
        },
        {
          "output_type": "display_data",
          "data": {
            "text/plain": [
              "<IPython.core.display.Javascript object>"
            ],
            "application/javascript": [
              "download(\"download_3ad49d3b-d67d-4f46-b27a-e13cbcb2ba66\", \"pysradb_downloads.zip\", 4232028710)"
            ]
          },
          "metadata": {}
        }
      ]
    },
    {
      "cell_type": "markdown",
      "metadata": {
        "id": "sMyJ_FI_JLO_"
      },
      "source": [
        "# Obtenha metadados de todo BioProject\n",
        "\n"
      ]
    },
    {
      "cell_type": "code",
      "metadata": {
        "id": "AW1dFq7aJQwX"
      },
      "source": [
        "!pysradb metadata SRP162234 --detailed"
      ],
      "execution_count": null,
      "outputs": []
    },
    {
      "cell_type": "markdown",
      "metadata": {
        "id": "lH0JAN_CIAQI"
      },
      "source": [
        "# Baixe um projeto inteiro\n",
        "* dependendo do tamanho do projeto isso pode levar muito tempo. Certifique de ter conexão de internet. O Colab reinicia e perde a conexão se ocorrer picos sem conexão."
      ]
    },
    {
      "cell_type": "code",
      "metadata": {
        "id": "ulqIWwndIDhJ"
      },
      "source": [
        "!pysradb download -p SRP162234"
      ],
      "execution_count": null,
      "outputs": []
    }
  ]
}