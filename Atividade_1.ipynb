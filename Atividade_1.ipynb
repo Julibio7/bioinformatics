{
  "nbformat": 4,
  "nbformat_minor": 0,
  "metadata": {
    "colab": {
      "name": "Atividade_1.ipynb",
      "provenance": [],
      "include_colab_link": true
    },
    "kernelspec": {
      "name": "python3",
      "display_name": "Python 3"
    },
    "language_info": {
      "name": "python"
    }
  },
  "cells": [
    {
      "cell_type": "markdown",
      "metadata": {
        "id": "view-in-github",
        "colab_type": "text"
      },
      "source": [
        "<a href=\"https://colab.research.google.com/github/Julibio7/bioinformatics/blob/main/Atividade_1.ipynb\" target=\"_parent\"><img src=\"https://colab.research.google.com/assets/colab-badge.svg\" alt=\"Open In Colab\"/></a>"
      ]
    },
    {
      "cell_type": "markdown",
      "source": [
        "# Atividade 1\n",
        "____________\n",
        "##Informações importantes\n",
        "\n",
        "- Enviar a atividade até dia 02/05/22\n",
        "- Para enviar:\n",
        "   * Na aba Arquivo --> Fazer download --> Fazer o download do .ipynb\n",
        "   * Enviar a atividade no _e-mail_ **julianasantos@univas.edu.br**\n",
        "   * No _e-mail_ adicionar nome completo e mencione o grau de dificuldade para executar a atividade.\n",
        "   * Certifique que o _e-mail_ foi enviado, atividade fora do prazo serão desconsideradas. \n",
        "\n",
        "\n",
        "Itens abordados na atividade:\n",
        "* Operadores aritméticos\n",
        "* Variáveis\n",
        "* Tipos de dados"
      ],
      "metadata": {
        "id": "nDvU_yncHndt"
      }
    },
    {
      "cell_type": "markdown",
      "source": [
        "## Operadores Aritméticos\n",
        "\n",
        "Esses operadores são utilizados para criarmos expressões matemáticas comuns, como soma, subtração, multiplicação e divisão.\n",
        "\n",
        "**Agora, vamos praticar!**\n",
        "\n",
        "______________________________"
      ],
      "metadata": {
        "id": "cxFhP04RJhnK"
      }
    },
    {
      "cell_type": "markdown",
      "source": [
        "1. Realize a multiplicação dos números inteiros (int) **10** e **30**"
      ],
      "metadata": {
        "id": "ZV9PYBSCUX31"
      }
    },
    {
      "cell_type": "code",
      "source": [
        ""
      ],
      "metadata": {
        "id": "GXkDv52LUXXw"
      },
      "execution_count": null,
      "outputs": []
    },
    {
      "cell_type": "markdown",
      "source": [
        "2. Escolha dois números inteiros (int) e realize uma **soma** na célula de código abaixo:"
      ],
      "metadata": {
        "id": "aXWesAP5OC13"
      }
    },
    {
      "cell_type": "code",
      "execution_count": null,
      "metadata": {
        "id": "da5SbxjHJUN5"
      },
      "outputs": [],
      "source": [
        ""
      ]
    },
    {
      "cell_type": "markdown",
      "source": [
        "3. Agora realize a multiplicação de dois valores numéricos do tipo inteiro (int). Fique a vontade para escolher os valores para realizar a operação de multiplicação."
      ],
      "metadata": {
        "id": "qj4U-GLQOyJ6"
      }
    },
    {
      "cell_type": "code",
      "source": [
        ""
      ],
      "metadata": {
        "id": "CU_S5bOiJXN8"
      },
      "execution_count": null,
      "outputs": []
    },
    {
      "cell_type": "markdown",
      "source": [
        "## Função `print()`\n",
        "\n",
        "A função `print()` é utilizada para o programa exibir mensagens.\n",
        "____\n",
        "\n",
        "5. Utilize a função `print()` para imprimir na tela a mensagem: \"Olá, mundo!\""
      ],
      "metadata": {
        "id": "7jTWMbruVW8C"
      }
    },
    {
      "cell_type": "code",
      "source": [
        ""
      ],
      "metadata": {
        "id": "0kGFwoQDV7Zu"
      },
      "execution_count": null,
      "outputs": []
    },
    {
      "cell_type": "markdown",
      "source": [
        "##Variável  \n",
        "\n",
        "Variáveis são pedacinhos de memória onde armazenamos valores. Sempre que referenciamos o nome de uma variável, o valor é acessado. Definimos uma variável dando um nome a ela e usando o sinal de igual (=) para atribuir um valor.\n",
        "\n",
        "________\n"
      ],
      "metadata": {
        "id": "3fKPhuH2JX2I"
      }
    },
    {
      "cell_type": "markdown",
      "source": [
        "5. Uma variável foi criada com nome bioinformatica e atribuído um valor do tipo string.\n",
        "\n",
        "a. Execute o código abaixo\n",
        "\n",
        "b. Em uma nova célula de código utilize a função `print()` para imprimir a mensagem contida na variável bioinformatica"
      ],
      "metadata": {
        "id": "NFAMH45BTeEs"
      }
    },
    {
      "cell_type": "code",
      "source": [
        "bioinformatica = 'A Sequência FASTA é um dos formatos mais versáteis de informações para análises de bioinformática'"
      ],
      "metadata": {
        "id": "U90XWm2CYLaK"
      },
      "execution_count": null,
      "outputs": []
    },
    {
      "cell_type": "code",
      "source": [
        "# utilize a função print() para imprimir a mensagem contida na variável bioinformatica\n"
      ],
      "metadata": {
        "id": "31PAYS-DYQC2"
      },
      "execution_count": null,
      "outputs": []
    },
    {
      "cell_type": "code",
      "source": [
        ""
      ],
      "metadata": {
        "id": "phQeUOeKTdQg"
      },
      "execution_count": null,
      "outputs": []
    },
    {
      "cell_type": "markdown",
      "source": [
        "6. Declare uma variável chamada semestre e armazene o valor numérico do semestre que está cursando atualmente. Em seguida, escreva o nome da variável para obter seu valor."
      ],
      "metadata": {
        "id": "R25b1caAOmdS"
      }
    },
    {
      "cell_type": "code",
      "source": [
        ""
      ],
      "metadata": {
        "id": "tmFKnPj6OrbN"
      },
      "execution_count": null,
      "outputs": []
    },
    {
      "cell_type": "markdown",
      "source": [
        "7. Agora declare uma variável chamada nome e armazene uma **string** correspondente ao seu nome. Agora utilize a função `print ()` para imprimi-la"
      ],
      "metadata": {
        "id": "GqumlGEjO9mk"
      }
    },
    {
      "cell_type": "code",
      "source": [
        ""
      ],
      "metadata": {
        "id": "wIMza7SEIcDm"
      },
      "execution_count": null,
      "outputs": []
    },
    {
      "cell_type": "markdown",
      "source": [
        "8. A célula de código abaixo contém duas sequências de DNA.  A primeira sequência está armazenada na váriavel `seq1` e a segunda sequência está armazenada na váriavel `seq2`."
      ],
      "metadata": {
        "id": "2li7phIlIcrB"
      }
    },
    {
      "cell_type": "code",
      "source": [
        "# Para executar a linha de código você pode  usar o Ctrl + Enter\n",
        "seq1 = 'ATCCTTACGAATATAGCCGGTACTAATTCGA'\n",
        "seq2 = 'CCTCTAATAATCTCAATTATATCCGGGC'"
      ],
      "metadata": {
        "id": "zFnMKS8CJmTy"
      },
      "execution_count": null,
      "outputs": []
    },
    {
      "cell_type": "markdown",
      "source": [
        "Agora vamos realizar algumas operações com as variáveis acima\n",
        "\n",
        "a. Use o operador aritmético de soma (+) para concatenar a seq1 e seq2, crie uma nova variável para armazenar a soma e use a função `print()` para acessar o resultado obtido"
      ],
      "metadata": {
        "id": "bhImvgKuKH1u"
      }
    },
    {
      "cell_type": "code",
      "source": [
        ""
      ],
      "metadata": {
        "id": "AHG9ccRMKy7y"
      },
      "execution_count": null,
      "outputs": []
    },
    {
      "cell_type": "markdown",
      "source": [
        "b. Use o operador lógico de igualdade (`==`) para comparar se as duas váriáveis são diferentes ou iguais."
      ],
      "metadata": {
        "id": "IZEb6O8nK0f2"
      }
    },
    {
      "cell_type": "code",
      "source": [
        ""
      ],
      "metadata": {
        "id": "cBL_q3Q_LAiQ"
      },
      "execution_count": null,
      "outputs": []
    },
    {
      "cell_type": "markdown",
      "source": [
        "c. Faça um código para descobrir qual sequência é maior utilizando os sinais de `<` e `>."
      ],
      "metadata": {
        "id": "g1ie_fFPLA54"
      }
    },
    {
      "cell_type": "code",
      "source": [
        ""
      ],
      "metadata": {
        "id": "t5hrOAWyKHK7"
      },
      "execution_count": null,
      "outputs": []
    },
    {
      "cell_type": "markdown",
      "source": [
        "d. Utilize a função `len()`para descobrir o tamanho de cada sequência."
      ],
      "metadata": {
        "id": "VV6ToEvf1UkW"
      }
    },
    {
      "cell_type": "code",
      "source": [
        ""
      ],
      "metadata": {
        "id": "knkWEQS21cL7"
      },
      "execution_count": null,
      "outputs": []
    },
    {
      "cell_type": "markdown",
      "source": [
        "## Tipos de dados\n",
        "\n",
        "Você pode obter o tipo de dados de qualquer objeto usando a função `type()`.\n",
        "\n",
        "____\n",
        "\n",
        "9. Imprima utilizando a função `print()` o tipo de dados da variável x\n",
        "\n",
        "Abaixo temos um código, no entanto está incompleto. Complete e execute o código para obtermos a informação do tipo de dado da variável x."
      ],
      "metadata": {
        "id": "SgRSgGbQY4DG"
      }
    },
    {
      "cell_type": "code",
      "source": [
        "x = 1.58\n",
        "\n",
        "print(type())\n"
      ],
      "metadata": {
        "id": "99aViqcVqRj4"
      },
      "execution_count": null,
      "outputs": []
    },
    {
      "cell_type": "markdown",
      "source": [
        "10. Descubra o tipo de dado da váriável abaixo:"
      ],
      "metadata": {
        "id": "2Rrouh5Krbfi"
      }
    },
    {
      "cell_type": "code",
      "source": [
        "#execute esse código\n",
        "mensagem = \"os obstáculos são colocados em nossos caminhos para demonstrar o quanto queremos e podemos vencer alguma coisa\""
      ],
      "metadata": {
        "id": "R35KSI8SsBB1"
      },
      "execution_count": null,
      "outputs": []
    },
    {
      "cell_type": "code",
      "source": [
        "#descubra o tipo de dado presente na variável mensagem\n"
      ],
      "metadata": {
        "id": "1r0H3u08tFb6"
      },
      "execution_count": null,
      "outputs": []
    }
  ]
}