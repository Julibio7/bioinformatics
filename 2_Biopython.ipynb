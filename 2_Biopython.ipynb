{
  "nbformat": 4,
  "nbformat_minor": 0,
  "metadata": {
    "colab": {
      "name": "2_Biopython.ipynb",
      "provenance": [],
      "collapsed_sections": [],
      "authorship_tag": "ABX9TyOAqxXr0gsu+ZqW0aU7iCcd",
      "include_colab_link": true
    },
    "kernelspec": {
      "name": "python3",
      "display_name": "Python 3"
    },
    "language_info": {
      "name": "python"
    }
  },
  "cells": [
    {
      "cell_type": "markdown",
      "metadata": {
        "id": "view-in-github",
        "colab_type": "text"
      },
      "source": [
        "<a href=\"https://colab.research.google.com/github/Julibio7/bioinformatics/blob/main/2_Biopython.ipynb\" target=\"_parent\"><img src=\"https://colab.research.google.com/assets/colab-badge.svg\" alt=\"Open In Colab\"/></a>"
      ]
    },
    {
      "cell_type": "markdown",
      "source": [
        "# <center> Iniciando o Biopython"
      ],
      "metadata": {
        "id": "j7ANo5xRsDV1"
      }
    },
    {
      "cell_type": "markdown",
      "source": [
        "- [tutorial oficial Biopython](http://biopython.org/DIST/docs/tutorial/Tutorial.html#sec7)\n",
        "- [Cookbook](https://biopython.org/wiki/Category%3ACookbook)\n",
        "-[Biopython.org](https://biopython.org/)\n",
        "\n",
        "\n"
      ],
      "metadata": {
        "id": "q02-GJhBzVpX"
      }
    },
    {
      "cell_type": "markdown",
      "source": [
        "Primeiro é necessário instalar o Biopython no Colab usando o comando:"
      ],
      "metadata": {
        "id": "Lv9Wk9FLsgv_"
      }
    },
    {
      "cell_type": "code",
      "source": [
        "#Instalar o Biopython\n",
        "!pip3 install biopython"
      ],
      "metadata": {
        "id": "-AVaotzYsRXI"
      },
      "execution_count": null,
      "outputs": []
    },
    {
      "cell_type": "code",
      "source": [
        "#importar Bio.seq\n",
        "import Bio\n",
        "from Bio.Seq import Seq"
      ],
      "metadata": {
        "id": "wJl78zphrPYj"
      },
      "execution_count": 3,
      "outputs": []
    },
    {
      "cell_type": "code",
      "execution_count": null,
      "metadata": {
        "id": "GI5fYHe6rJDW"
      },
      "outputs": [],
      "source": [
        "#Declarando minha primeira sequência\n",
        "minha_sequencia = Seq(\"AGTACACTGGT\")\n",
        "print(minha_sequencia)"
      ]
    },
    {
      "cell_type": "markdown",
      "source": [
        "##Manipulando sequências\n",
        "Uma das funções básicas do Biopython é a análise de sequências. Para isso, é necessário importar o módulo Seq com o comando:"
      ],
      "metadata": {
        "id": "ubk50aInsxMM"
      }
    },
    {
      "cell_type": "code",
      "source": [
        " # Manipulação básica de sequências\n",
        "from Bio.Seq import Seq "
      ],
      "metadata": {
        "id": "JY_2O-Ias6wU"
      },
      "execution_count": null,
      "outputs": []
    },
    {
      "cell_type": "markdown",
      "source": [
        "\n",
        "Em Bioinformática, nucleotídeos presentes em sequências de DNA são representados pelos caracteres A, T, C e G (adenina, timina, citosina e guanina)."
      ],
      "metadata": {
        "id": "q0fEMUASvuHv"
      }
    },
    {
      "cell_type": "markdown",
      "source": [
        "Em Biopython, sequências devem ser declaradas com o método `Seq( )`:"
      ],
      "metadata": {
        "id": "mnfEWME8tB6y"
      }
    },
    {
      "cell_type": "code",
      "source": [
        " # Declarando uma sequência\n",
        "seq1 = Seq(\"ACGTAGCTACGATCACAGCTA\")\n",
        "print(\"Minha sequência é\", seq1)"
      ],
      "metadata": {
        "id": "uKQLRjiZtBLI",
        "colab": {
          "base_uri": "https://localhost:8080/"
        },
        "outputId": "3906f74b-ac1e-4635-fc8f-613a31c9f7b4"
      },
      "execution_count": 5,
      "outputs": [
        {
          "output_type": "stream",
          "name": "stdout",
          "text": [
            "Minha sequência é ACGTAGCTACGATCACAGCTA\n"
          ]
        }
      ]
    },
    {
      "cell_type": "markdown",
      "source": [
        " Assim, define-se como sequência complementar a sequência formada por bases que pareiam com bases de outra fita de DNA, ou seja, bases que realizam ligações de hidrogênio na formação da dupla hélice do DNA"
      ],
      "metadata": {
        "id": "5dvfVsk1vjz2"
      }
    },
    {
      "cell_type": "markdown",
      "source": [
        "Após declarada, a sequência pode ser manipulada como um objeto do tipo Seq. Observe por exemplo, como obter o reverso complementar da sequência declarada anteriormente:\n",
        "\n"
      ],
      "metadata": {
        "id": "nbPWlHSDtPEQ"
      }
    },
    {
      "cell_type": "code",
      "source": [
        "rc = seq1.reverse_complement()\n",
        "print(\"O reverso complementar é\", rc)"
      ],
      "metadata": {
        "id": "lpFGQUzTtSZq"
      },
      "execution_count": null,
      "outputs": []
    },
    {
      "cell_type": "markdown",
      "source": [
        "Podemos ainda obter a sequência transcrita chamando o método `transcribe()`:"
      ],
      "metadata": {
        "id": "tY46yjm6tXlT"
      }
    },
    {
      "cell_type": "code",
      "source": [
        "# Transcrição\n",
        "rna = seq1.transcribe()\n",
        "print(\"A sequência transcrita é\", rna)"
      ],
      "metadata": {
        "id": "OAHhNdaHtcEa"
      },
      "execution_count": null,
      "outputs": []
    },
    {
      "cell_type": "markdown",
      "source": [
        "Por fim, podemos obter a sequência de aminoácidos a partir da tradução da sequência:\n",
        "\n"
      ],
      "metadata": {
        "id": "CkHJcNaVth1q"
      }
    },
    {
      "cell_type": "code",
      "source": [
        "protein = seq1.translate()\n",
        "print(\"A sequência da proteína é\", protein)"
      ],
      "metadata": {
        "id": "pxHb5W1Qtisy"
      },
      "execution_count": null,
      "outputs": []
    },
    {
      "cell_type": "markdown",
      "source": [
        "## TRANSCRIÇÃO "
      ],
      "metadata": {
        "id": "amRe67d_xgIE"
      }
    },
    {
      "cell_type": "markdown",
      "source": [
        "O processo de transcrição permite a formação do RNA mensageiro com base na região codificante do DNA. Computacionalmente falando podemos analisar a transcrição como um processo de modificações em strings."
      ],
      "metadata": {
        "id": "A6_xhxwWxlNP"
      }
    },
    {
      "cell_type": "code",
      "source": [
        "from Bio.Seq import Seq\n",
        "\n",
        "dna = Seq(\"ATGGCCATTCGCAAGGGTGCCCGATAG\")\n",
        "print(\"DNA: \"+dna)\n",
        "# DNA: ATGGCCATTCGCAAGGGTGCCCGATAG\n",
        "\n",
        "rna = dna.transcribe()\n",
        "print(\"RNA: \"+rna)\n",
        "#RNA: AUGGCCAUUCGCAAGGGUGCCCGAUAG\n",
        "\n",
        "dna2 = rna.back_transcribe()\n",
        "print(\"DNA: \"+dna2)\n",
        "#DNA: ATGGCCATTCGCAAGGGTGCCCGATAG"
      ],
      "metadata": {
        "id": "dV3Qb8k9xoBf"
      },
      "execution_count": null,
      "outputs": []
    },
    {
      "cell_type": "markdown",
      "source": [
        "# <center> Exemplo simples de análise FASTA\n",
        "\n",
        "[exemplo](http://biopython.org/DIST/docs/tutorial/Tutorial.html)\n",
        "\n",
        "Se você abrir o arquivo FASTA de orquídeas **ls_orchid.fasta** em seu editor de texto favorito, verá que o arquivo começa assim:\n",
        "\n",
        "`>gi|2765658|emb|Z78533.1|CIZ78533 C.irapeanum 5.8S rRNA gene e ITS1 e ITS2 DNA\n",
        "CGTAACAAGGTTTCCGTAGGTGAACCTGCGGAAGGATCATTGATGAGACCGTGGAATAAACGATCGAGTG AATCCGGAGGACCGGTGTACTCAGCTCACCGGGGGCATTGCTCCCGTGGTGACCCTGATTTGTTGTTGGG`\n",
        "...\n",
        "\n",
        "Acesse o [arquivo fasta](https://raw.githubusercontent.com/biopython/biopython/master/Doc/examples/ls_orchid.fasta)\n",
        "\n",
        "ARQUIVO FASTA:\n",
        "\n",
        "* Começa sempre com “ >” (símbolo de maior que) seguido pela sequência em uma ou mais linhas.\n",
        "* FASTA é o formato preferido para armazenar genomas de referência.\n",
        "* FASTA é usado para armazenar todos os tipos de sequências de DNA, RNA ou proteínas \n",
        "\n",
        "Formato básico\n",
        "Aqui está o formato básico:\n",
        "\n",
        "\n",
        "    >sequence1_short_name with optional additional info after whitespace\n",
        "    ACATCACCCCATAAACAAATAGGTTTGGTCCTAGCCTTTCTATTAGCTCTTAGTAAGATTACACATGCAA\n",
        "    GCATCCCCGTTCCAGTGAGTTCACCCTCTAAATCACCACGATCAAAAGGAACAAGCATCAAGCACGCAGC\n",
        "    AATGCAGCTCAAAACGCTTAGCCTAGCCACACCCCCACGGGAAACAGCAGTGAT\n",
        "    >sequence2_short_name with optional additional info after whitespace\n",
        "    GCCCCAAACCCACTCCACCTTACTACCAGACAACCTTAGCCAAACCATTTACCCAAATAAAGTATAGGCG\n",
        "    ATAGAAATTGAAACCTGGCGCAATAGATATAGTACCGCAAGGGAAAGATGAAAAATTATAACCAAGCATA\n",
        "    ATATAG\n",
        "\n",
        "___\n",
        "\n",
        "\n",
        "\n"
      ],
      "metadata": {
        "id": "IqOOO1yu4rJ9"
      }
    },
    {
      "cell_type": "markdown",
      "source": [
        "[O artigo FASTA original de Bill Pearson. Esta é a ferramenta de software que tornou o formato popular](https://www.sciencedirect.com/science/article/abs/pii/007668799083007V)"
      ],
      "metadata": {
        "id": "8tKRakBnVrh8"
      }
    },
    {
      "cell_type": "code",
      "source": [
        "#Instalar o Biopython\n",
        "!pip3 install biopython"
      ],
      "metadata": {
        "id": "uX1GDdSw6iDW"
      },
      "execution_count": null,
      "outputs": []
    },
    {
      "cell_type": "code",
      "source": [
        "#importar biblioteca \n",
        "\n",
        "from Bio import SeqIO"
      ],
      "metadata": {
        "id": "xju3fPwi6WFE"
      },
      "execution_count": 7,
      "outputs": []
    },
    {
      "cell_type": "markdown",
      "source": [
        " **Aqui está uma sequência de referência do mundo real (o genoma mitocondrial humano ) no formato FASTA:**"
      ],
      "metadata": {
        "id": "9M1XEAmWNuNt"
      }
    },
    {
      "cell_type": "markdown",
      "source": [
        "https://colab.research.google.com/drive/1BwXFamKpKIhE5k2nFR8HpPvD4-00Z58s#scrollTo=uU3JCNKwMKgA\n",
        "\n",
        "https://biopython.org/wiki/SeqIO"
      ],
      "metadata": {
        "id": "vrTxvcWlOix2"
      }
    },
    {
      "cell_type": "code",
      "execution_count": null,
      "metadata": {
        "id": "aeoLgbAgMKf9"
      },
      "outputs": [],
      "source": [
        "import gzip\n",
        "import urllib.request\n",
        "url = 'ftp://ftp.ncbi.nlm.nih.gov/genomes/archive/old_genbank/Eukaryotes/vertebrates_mammals/Homo_sapiens/GRCh38/non-nuclear/assembled_chromosomes/FASTA/chrMT.fa.gz'\n",
        "response = urllib.request.urlopen(url)\n",
        "print(gzip.decompress(response.read()).decode('UTF8'))"
      ]
    },
    {
      "cell_type": "markdown",
      "source": [
        "Este arquivo FASTA mostrado acima possui apenas uma sequência. Como vimos no primeiro exemplo acima, também é possível que um arquivo FASTA contenha várias sequências. Estes são às vezes chamados de arquivos multi-FASTA. Quando você escreve código para interpretar arquivos FASTA, é uma boa ideia sempre permitir a possibilidade de que o arquivo FASTA possa conter várias sequências.\n",
        "\n",
        "Os arquivos FASTA geralmente são armazenados com a `.fa` extensão do nome do arquivo, mas isso não é uma regra. `.fasta` é outra extensão popular. Você também pode ver `.fas`, `.fna`, `.mfa`(para multi-FASTA) e outros."
      ],
      "metadata": {
        "id": "qUywFGdWOR_u"
      }
    },
    {
      "cell_type": "markdown",
      "source": [
        "---\n",
        "**Analisando o FASTA** 🤓\n",
        "\n",
        "Aqui está uma função simples para analisar um arquivo FASTA em um dicionário Python. O dicionário mapeia nomes curtos para cadeias de nucleotídeos correspondentes (com espaços em branco removidos)."
      ],
      "metadata": {
        "id": "AFYGXkFF_APQ"
      }
    },
    {
      "cell_type": "code",
      "source": [
        "def parse_fasta(fh):\n",
        "    fa = {}\n",
        "    current_short_name = None\n",
        "    # Part 1: compile list of lines per sequence\n",
        "    for ln in fh:\n",
        "        if ln[0] == '>':\n",
        "            # new name line; remember current sequence's short name\n",
        "            long_name = ln[1:].rstrip()\n",
        "            current_short_name = long_name.split()[0]\n",
        "            fa[current_short_name] = []\n",
        "        else:\n",
        "            # append nucleotides to current sequence\n",
        "            fa[current_short_name].append(ln.rstrip())\n",
        "    # Part 2: join lists into strings\n",
        "    for short_name, nuc_list in fa.items():\n",
        "        # join this sequence's lines into one long string\n",
        "        fa[short_name] = ''.join(nuc_list)\n",
        "    return fa"
      ],
      "metadata": {
        "id": "xzdHL97O_Mzi"
      },
      "execution_count": 13,
      "outputs": []
    },
    {
      "cell_type": "code",
      "source": [
        "from io import StringIO\n",
        "fasta_example = StringIO()\n",
        "parsed_fa = parse_fasta(fasta_example)\n",
        "parsed_fa"
      ],
      "metadata": {
        "colab": {
          "base_uri": "https://localhost:8080/"
        },
        "id": "VAtw2-vhPy0P",
        "outputId": "330affcc-36e9-4f05-d871-a9034602270c"
      },
      "execution_count": 14,
      "outputs": [
        {
          "output_type": "execute_result",
          "data": {
            "text/plain": [
              "{}"
            ]
          },
          "metadata": {},
          "execution_count": 14
        }
      ]
    },
    {
      "cell_type": "markdown",
      "source": [
        "**Indexado FASTA**\n",
        "\n",
        "Digamos que você tenha um ou mais arquivos FASTA grandes (por exemplo, todo o genoma de referência humano) e gostaria de acessar esses arquivos \"aleatoriamente\", espiando substrings aqui e ali sem nenhum padrão de acesso regular. \n",
        "\n",
        "Talvez você esteja imitando uma máquina de sequenciamento, lendo trechos de DNA aqui e ali.\n",
        "\n",
        "Você pode começar usando a parse_fastafunção definida acima para analisar os arquivos FASTA. Então, para acessar uma substring, faça o seguinte:"
      ],
      "metadata": {
        "id": "f0YgWno6RjB3"
      }
    },
    {
      "cell_type": "code",
      "source": [
        "parsed_fa['sequence1'][100:130]"
      ],
      "metadata": {
        "id": "CaV3V3eIRcgm"
      },
      "execution_count": null,
      "outputs": []
    },
    {
      "cell_type": "markdown",
      "source": [
        "#Agora Vamos explorar outro conjunto de Dados"
      ],
      "metadata": {
        "id": "KQPgTI5Ptxsm"
      }
    },
    {
      "cell_type": "markdown",
      "source": [
        "Observe que o arquivo contém 94 registros, cada um com uma linha começando com “ >” (símbolo de maior que) seguido pela sequência em uma ou mais linhas. \n",
        "\n",
        "\n",
        "Agora tente isso em Python:"
      ],
      "metadata": {
        "id": "s5IgopqONkpe"
      }
    },
    {
      "cell_type": "code",
      "source": [
        "#instalar\n",
        "!pip3 install pyfaidx"
      ],
      "metadata": {
        "id": "YZ_zQCsVWsb8"
      },
      "execution_count": null,
      "outputs": []
    },
    {
      "cell_type": "code",
      "source": [
        "#importar o arquivo FASTA\n",
        "from google.colab import files\n",
        "files.upload()"
      ],
      "metadata": {
        "id": "KeaK0vEB70W3"
      },
      "execution_count": null,
      "outputs": []
    },
    {
      "cell_type": "code",
      "source": [
        "from pyfaidx import Fasta\n",
        "orquideas = Fasta('orquidea.fasta')"
      ],
      "metadata": {
        "id": "2lu0lSMeWVIy"
      },
      "execution_count": null,
      "outputs": []
    },
    {
      "cell_type": "code",
      "source": [
        "orquideas.keys()"
      ],
      "metadata": {
        "id": "CgNFrmJXXGyC"
      },
      "execution_count": null,
      "outputs": []
    },
    {
      "cell_type": "code",
      "source": [
        "#explorar o index em uma sequência específica\n",
        "orquideas['gi|2765657|emb|Z78532.1|CCZ78532'][10:50]"
      ],
      "metadata": {
        "id": "_y_ZqeYOuG2J"
      },
      "execution_count": null,
      "outputs": []
    },
    {
      "cell_type": "code",
      "source": [
        "orquideas['gi|2765657|emb|Z78532.1|CCZ78532'][10:50].seq"
      ],
      "metadata": {
        "colab": {
          "base_uri": "https://localhost:8080/",
          "height": 35
        },
        "id": "O9F78cQPwk24",
        "outputId": "19941593-aaff-4b24-aab4-346e056b15fa"
      },
      "execution_count": null,
      "outputs": [
        {
          "output_type": "execute_result",
          "data": {
            "text/plain": [
              "'TTTCCGTAGGTGAACCTGCGGAAGGATCATTGTTGAGACA'"
            ],
            "application/vnd.google.colaboratory.intrinsic+json": {
              "type": "string"
            }
          },
          "metadata": {},
          "execution_count": 8
        }
      ]
    },
    {
      "cell_type": "code",
      "source": [
        "orquideas['gi|2765657|emb|Z78532.1|CCZ78532'][10:50].name"
      ],
      "metadata": {
        "colab": {
          "base_uri": "https://localhost:8080/",
          "height": 35
        },
        "id": "0wSwH6ESwuGr",
        "outputId": "6788a0e7-94a7-47a6-d8b0-335e4e986e50"
      },
      "execution_count": null,
      "outputs": [
        {
          "output_type": "execute_result",
          "data": {
            "text/plain": [
              "'gi|2765657|emb|Z78532.1|CCZ78532'"
            ],
            "application/vnd.google.colaboratory.intrinsic+json": {
              "type": "string"
            }
          },
          "metadata": {},
          "execution_count": 9
        }
      ]
    },
    {
      "cell_type": "code",
      "source": [
        "orquideas['gi|2765657|emb|Z78532.1|CCZ78532'][10:50].start"
      ],
      "metadata": {
        "colab": {
          "base_uri": "https://localhost:8080/"
        },
        "id": "KSHrdMYswwFJ",
        "outputId": "ac7219c2-1080-4454-a06d-bf704c90a787"
      },
      "execution_count": null,
      "outputs": [
        {
          "output_type": "execute_result",
          "data": {
            "text/plain": [
              "11"
            ]
          },
          "metadata": {},
          "execution_count": 10
        }
      ]
    },
    {
      "cell_type": "code",
      "source": [
        "orquideas['gi|2765657|emb|Z78532.1|CCZ78532'][10:50].end"
      ],
      "metadata": {
        "colab": {
          "base_uri": "https://localhost:8080/"
        },
        "id": "m6M1Cm0owzvj",
        "outputId": "37eecafe-c956-483b-dcaf-b714c1575518"
      },
      "execution_count": null,
      "outputs": [
        {
          "output_type": "execute_result",
          "data": {
            "text/plain": [
              "50"
            ]
          },
          "metadata": {},
          "execution_count": 11
        }
      ]
    },
    {
      "cell_type": "code",
      "source": [
        "orquideas['gi|2765657|emb|Z78532.1|CCZ78532'][10:50].fancy_name"
      ],
      "metadata": {
        "colab": {
          "base_uri": "https://localhost:8080/",
          "height": 35
        },
        "id": "RgORBV6Xw3yh",
        "outputId": "17598da6-4e5c-4091-a61b-6b03d62ced6d"
      },
      "execution_count": null,
      "outputs": [
        {
          "output_type": "execute_result",
          "data": {
            "text/plain": [
              "'gi|2765657|emb|Z78532.1|CCZ78532:11-50'"
            ],
            "application/vnd.google.colaboratory.intrinsic+json": {
              "type": "string"
            }
          },
          "metadata": {},
          "execution_count": 12
        }
      ]
    },
    {
      "cell_type": "code",
      "source": [
        "len(orquideas['gi|2765657|emb|Z78532.1|CCZ78532'][10:50])"
      ],
      "metadata": {
        "colab": {
          "base_uri": "https://localhost:8080/"
        },
        "id": "-gu7tFrWxCEv",
        "outputId": "a2c3f935-8140-4caa-dbd8-3d2fcf7b5a59"
      },
      "execution_count": null,
      "outputs": [
        {
          "output_type": "execute_result",
          "data": {
            "text/plain": [
              "40"
            ]
          },
          "metadata": {},
          "execution_count": 13
        }
      ]
    },
    {
      "cell_type": "markdown",
      "source": [
        "https://github.com/mdshw5/pyfaidx"
      ],
      "metadata": {
        "id": "pYO9yMb-xGdF"
      }
    },
    {
      "cell_type": "markdown",
      "source": [
        "##Revisando"
      ],
      "metadata": {
        "id": "IjvNhspBHd1x"
      }
    },
    {
      "cell_type": "code",
      "source": [
        "sequence = Seq('ATGGCAAAAGAGTGA')\n",
        "\n",
        "print('Sequence      (DNA):  ', str(sequence))\n",
        "print('Transcription (RNA):  ', str(sequence.transcribe()))\n",
        "print('Translation (Protein):', str(sequence.translate()))"
      ],
      "metadata": {
        "colab": {
          "base_uri": "https://localhost:8080/"
        },
        "id": "rO9noSyTHgSE",
        "outputId": "703255bf-15e1-47c6-e074-a650fc3efd9d"
      },
      "execution_count": null,
      "outputs": [
        {
          "output_type": "stream",
          "name": "stdout",
          "text": [
            "Sequence      (DNA):   ATGGCAAAAGAGTGA\n",
            "Transcription (RNA):   AUGGCAAAAGAGUGA\n",
            "Translation (Protein): MAKE*\n"
          ]
        }
      ]
    },
    {
      "cell_type": "code",
      "source": [
        ""
      ],
      "metadata": {
        "id": "wh3hDAC2HrFm"
      },
      "execution_count": null,
      "outputs": []
    }
  ]
}